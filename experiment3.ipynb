{
 "cells": [
  {
   "cell_type": "code",
   "execution_count": 1,
   "metadata": {},
   "outputs": [
    {
     "name": "stdout",
     "output_type": "stream",
     "text": [
      "\u001b[0;36mafl-clang-fast \u001b[1;37m1.96b\u001b[0m by <lszekeres@google.com>\n",
      "\u001b[0;36mafl-llvm-pass \u001b[1;37m1.96b\u001b[0m by <lszekeres@google.com>\n",
      "\u001b[1;32m[+] \u001b[0mInstrumented 6 locations (non-hardened mode, ratio 100%).\u001b[0m\n",
      "\u001b[0;36mafl-showmap \u001b[1;97m2.51b\u001b[0m by <lcamtuf@google.com>\n",
      "\u001b[1;94m[*] \u001b[0mExecuting './a.out'...\n",
      "\u001b[0m\n",
      "-- Program output begins --\n",
      "\u001b[0m\u001b[0m-- Program output ends --\n",
      "\u001b[1;91m\n",
      "+++ Program killed by signal 11 +++\n",
      "\u001b[0m\u001b[1;92m[+] \u001b[0mCaptured 2 tuples in './pr12.txt'.\u001b[0m\u001b[0m\n"
     ]
    }
   ],
   "source": [
    "!afl-clang-fast pr12.c -o ./a.out\n",
    "!afl-showmap -o ./pr12.txt -- ./a.out"
   ]
  },
  {
   "cell_type": "code",
   "execution_count": 2,
   "metadata": {},
   "outputs": [
    {
     "name": "stdout",
     "output_type": "stream",
     "text": [
      "\u001b[0;36mafl-clang-fast \u001b[1;37m1.96b\u001b[0m by <lszekeres@google.com>\r\n",
      "\u001b[0;36mafl-llvm-pass \u001b[1;37m1.96b\u001b[0m by <lszekeres@google.com>\r\n",
      "\u001b[1;32m[+] \u001b[0mInstrumented 1 locations (non-hardened mode, ratio 100%).\u001b[0m\r\n"
     ]
    }
   ],
   "source": [
    "!afl-clang-fast printer01.c -o ./a.out"
   ]
  },
  {
   "cell_type": "markdown",
   "metadata": {},
   "source": [
    "simple hello world program has 1 instrumented location."
   ]
  },
  {
   "cell_type": "code",
   "execution_count": 1,
   "metadata": {},
   "outputs": [
    {
     "name": "stdout",
     "output_type": "stream",
     "text": [
      "\u001b[0;36mafl-clang-fast \u001b[1;37m1.96b\u001b[0m by <lszekeres@google.com>\n",
      "\u001b[0;36mafl-llvm-pass \u001b[1;37m1.96b\u001b[0m by <lszekeres@google.com>\n",
      "\u001b[1;32m[+] \u001b[0mInstrumented 4 locations (non-hardened mode, ratio 100%).\u001b[0m\n",
      "\u001b[0;36mafl-showmap \u001b[1;97m2.51b\u001b[0m by <lcamtuf@google.com>\n",
      "\u001b[1;94m[*] \u001b[0mExecuting './a.out'...\n",
      "\u001b[0m\n",
      "-- Program output begins --\n",
      "\u001b[0m\u001b[0m-- Program output ends --\n",
      "\u001b[1;91m\n",
      "+++ Program killed by signal 11 +++\n",
      "\u001b[0m\u001b[1;92m[+] \u001b[0mCaptured 2 tuples in './pr21.txt'.\u001b[0m\u001b[0m\n"
     ]
    }
   ],
   "source": [
    "!afl-clang-fast pr21.c -o ./a.out\n",
    "!afl-showmap -o ./pr21.txt -- ./a.out"
   ]
  },
  {
   "cell_type": "code",
   "execution_count": 4,
   "metadata": {},
   "outputs": [
    {
     "name": "stdout",
     "output_type": "stream",
     "text": [
      "000000:1\r\n",
      "033464:1\r\n"
     ]
    }
   ],
   "source": [
    "!cat pr21.txt"
   ]
  },
  {
   "cell_type": "code",
   "execution_count": 5,
   "metadata": {},
   "outputs": [
    {
     "name": "stdout",
     "output_type": "stream",
     "text": [
      "\u001b[0;36mafl-showmap \u001b[1;97m2.51b\u001b[0m by <lcamtuf@google.com>\r\n",
      "\u001b[1;94m[*] \u001b[0mExecuting './a.out'...\r\n",
      "\u001b[0m\r\n",
      "-- Program output begins --\r\n",
      "\u001b[0m\r\n",
      " c>0\u001b[0m-- Program output ends --\r\n",
      "\u001b[1;92m[+] \u001b[0mCaptured 4 tuples in './pr21.txt'.\u001b[0m\u001b[0m\r\n"
     ]
    }
   ],
   "source": [
    "!afl-showmap -o ./pr21.txt -- ./a.out 1"
   ]
  },
  {
   "cell_type": "markdown",
   "metadata": {},
   "source": [
    "4 tuples for a program with a simple if else clause"
   ]
  },
  {
   "cell_type": "code",
   "execution_count": 6,
   "metadata": {
    "scrolled": true
   },
   "outputs": [
    {
     "name": "stdout",
     "output_type": "stream",
     "text": [
      "000000:1\r\n",
      "012894:1\r\n",
      "033464:1\r\n",
      "044371:1\r\n"
     ]
    }
   ],
   "source": [
    "!cat pr21.txt"
   ]
  },
  {
   "cell_type": "code",
   "execution_count": 7,
   "metadata": {},
   "outputs": [
    {
     "name": "stdout",
     "output_type": "stream",
     "text": [
      "\u001b[0;36mafl-showmap \u001b[1;97m2.51b\u001b[0m by <lcamtuf@google.com>\r\n",
      "\u001b[1;94m[*] \u001b[0mExecuting './a.out'...\r\n",
      "\u001b[0m\r\n",
      "-- Program output begins --\r\n",
      "\u001b[0m\r\n",
      " c<=0\u001b[0m-- Program output ends --\r\n",
      "\u001b[1;92m[+] \u001b[0mCaptured 4 tuples in './pr21.txt'.\u001b[0m\u001b[0m\r\n"
     ]
    }
   ],
   "source": [
    "!afl-showmap -o ./pr21.txt -- ./a.out 0"
   ]
  },
  {
   "cell_type": "code",
   "execution_count": 8,
   "metadata": {},
   "outputs": [
    {
     "name": "stdout",
     "output_type": "stream",
     "text": [
      "000000:1\r\n",
      "004666:1\r\n",
      "028138:1\r\n",
      "033464:1\r\n"
     ]
    }
   ],
   "source": [
    "!cat pr21.txt"
   ]
  },
  {
   "cell_type": "markdown",
   "metadata": {},
   "source": [
    "I'm not understanding the results. basically every number should be an edge number which connects two branches. \n",
    "when instrumenting it is stated that:\n",
    "[+] Instrumented 4 locations (non-hardened mode, ratio 100%).\n",
    "my illustration of that locations is like bellow. \n",
    "but the results of afl-showmap aren't as i was expected."
   ]
  },
  {
   "cell_type": "code",
   "execution_count": 21,
   "metadata": {
    "scrolled": false
   },
   "outputs": [
    {
     "data": {
      "text/html": [
       "<img src=\"./simple hello world.png\">\n"
      ],
      "text/plain": [
       "<IPython.core.display.HTML object>"
      ]
     },
     "metadata": {},
     "output_type": "display_data"
    }
   ],
   "source": [
    "%%html\n",
    "<img src=\"./simple hello world.png\">"
   ]
  },
  {
   "cell_type": "markdown",
   "metadata": {},
   "source": [
    "Next i continue with a simple if without else part."
   ]
  },
  {
   "cell_type": "code",
   "execution_count": 16,
   "metadata": {},
   "outputs": [
    {
     "name": "stdout",
     "output_type": "stream",
     "text": [
      "\u001b[0;36mafl-clang-fast \u001b[1;37m1.96b\u001b[0m by <lszekeres@google.com>\n",
      "\u001b[0;36mafl-llvm-pass \u001b[1;37m1.96b\u001b[0m by <lszekeres@google.com>\n",
      "\u001b[1;32m[+] \u001b[0mInstrumented 3 locations (non-hardened mode, ratio 100%).\u001b[0m\n",
      "\u001b[0;36mafl-showmap \u001b[1;97m2.51b\u001b[0m by <lcamtuf@google.com>\n",
      "\u001b[1;94m[*] \u001b[0mExecuting './a.out'...\n",
      "\u001b[0m\n",
      "-- Program output begins --\n",
      "\u001b[0m\u001b[0m-- Program output ends --\n",
      "\u001b[1;91m\n",
      "+++ Program killed by signal 11 +++\n",
      "\u001b[0m\u001b[1;92m[+] \u001b[0mCaptured 2 tuples in './pr22.txt'.\u001b[0m\u001b[0m\n"
     ]
    }
   ],
   "source": [
    "!afl-clang-fast pr22.c -o ./a.out\n",
    "!afl-showmap -o ./pr22.txt -- ./a.out"
   ]
  },
  {
   "cell_type": "code",
   "execution_count": 17,
   "metadata": {},
   "outputs": [
    {
     "name": "stdout",
     "output_type": "stream",
     "text": [
      "000000:1\r\n",
      "009078:1\r\n"
     ]
    }
   ],
   "source": [
    "!cat ./pr22.txt"
   ]
  },
  {
   "cell_type": "code",
   "execution_count": 18,
   "metadata": {},
   "outputs": [
    {
     "name": "stdout",
     "output_type": "stream",
     "text": [
      "\u001b[0;36mafl-showmap \u001b[1;97m2.51b\u001b[0m by <lcamtuf@google.com>\n",
      "\u001b[1;94m[*] \u001b[0mExecuting './a.out'...\n",
      "\u001b[0m\n",
      "-- Program output begins --\n",
      "\u001b[0m\n",
      " c>0\u001b[0m-- Program output ends --\n",
      "\u001b[1;92m[+] \u001b[0mCaptured 4 tuples in './pr22.txt'.\u001b[0m\u001b[0m\n",
      "000000:1\n",
      "000998:1\n",
      "002288:1\n",
      "009078:1\n"
     ]
    }
   ],
   "source": [
    "!afl-showmap -o ./pr22.txt -- ./a.out 1\n",
    "!cat ./pr22.txt"
   ]
  },
  {
   "cell_type": "code",
   "execution_count": 19,
   "metadata": {},
   "outputs": [
    {
     "name": "stdout",
     "output_type": "stream",
     "text": [
      "\u001b[0;36mafl-showmap \u001b[1;97m2.51b\u001b[0m by <lcamtuf@google.com>\n",
      "\u001b[1;94m[*] \u001b[0mExecuting './a.out'...\n",
      "\u001b[0m\n",
      "-- Program output begins --\n",
      "\u001b[0m\u001b[0m-- Program output ends --\n",
      "\u001b[1;92m[+] \u001b[0mCaptured 3 tuples in './pr22.txt'.\u001b[0m\u001b[0m\n",
      "000000:1\n",
      "004197:1\n",
      "009078:1\n"
     ]
    }
   ],
   "source": [
    "!afl-showmap -o ./pr22.txt -- ./a.out 0\n",
    "!cat ./pr22.txt"
   ]
  },
  {
   "cell_type": "code",
   "execution_count": 22,
   "metadata": {},
   "outputs": [
    {
     "data": {
      "text/html": [
       "<img src=\"./really simple hello world.png\">\n"
      ],
      "text/plain": [
       "<IPython.core.display.HTML object>"
      ]
     },
     "metadata": {},
     "output_type": "display_data"
    }
   ],
   "source": [
    "%%html\n",
    "<img src=\"./really simple hello world.png\">"
   ]
  },
  {
   "cell_type": "markdown",
   "metadata": {},
   "source": [
    "for argv[1] = 1 i was expected something like:\n",
    "\n",
    "1:1\n",
    "\n",
    "2:1\n",
    "\n",
    "and for argv[1] = 0:\n",
    "\n",
    "3:1\n",
    "\n",
    "but the result of afl-showmap isn't as i was expected."
   ]
  },
  {
   "cell_type": "code",
   "execution_count": null,
   "metadata": {},
   "outputs": [],
   "source": []
  }
 ],
 "metadata": {
  "kernelspec": {
   "display_name": "Python 3",
   "language": "python",
   "name": "python3"
  },
  "language_info": {
   "codemirror_mode": {
    "name": "ipython",
    "version": 3
   },
   "file_extension": ".py",
   "mimetype": "text/x-python",
   "name": "python",
   "nbconvert_exporter": "python",
   "pygments_lexer": "ipython3",
   "version": "3.5.2"
  }
 },
 "nbformat": 4,
 "nbformat_minor": 2
}
