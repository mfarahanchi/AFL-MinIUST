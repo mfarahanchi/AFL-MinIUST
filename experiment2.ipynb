{
 "cells": [
  {
   "cell_type": "markdown",
   "metadata": {},
   "source": [
    "In this experiment we want to interpret the meaning of afl-showmap results."
   ]
  },
  {
   "cell_type": "code",
   "execution_count": 1,
   "metadata": {},
   "outputs": [
    {
     "name": "stdout",
     "output_type": "stream",
     "text": [
      "/media/sf_linuxvm/beta\r\n"
     ]
    }
   ],
   "source": [
    "!pwd"
   ]
  },
  {
   "cell_type": "code",
   "execution_count": 14,
   "metadata": {},
   "outputs": [
    {
     "name": "stdout",
     "output_type": "stream",
     "text": [
      "#include <stdio.h>\r\n",
      "#include <stdlib.h>\r\n",
      "\r\n",
      "void tabriz() {\r\n",
      "    printf(\"Hello from Tabriz!\\n\");\r\n",
      "}\r\n",
      "\r\n",
      "void tehran() {\r\n",
      "    printf(\"Hello from Tehran!\\n\");\r\n",
      "}\r\n",
      "\r\n",
      "int main(int argc, char** argv)\r\n",
      "{\r\n",
      "    char *cc=argv[1];\r\n",
      "    int c = atoi(cc);\r\n",
      "\r\n",
      "    if(c==1) {\r\n",
      "        tabriz();\r\n",
      "        tehran();\r\n",
      "    } else if(c==2) {\r\n",
      "        tehran();\r\n",
      "        tabriz();\r\n",
      "    }\r\n",
      "    return 0;\r\n",
      "}"
     ]
    }
   ],
   "source": [
    "!cat pr11.c"
   ]
  },
  {
   "cell_type": "code",
   "execution_count": 4,
   "metadata": {},
   "outputs": [
    {
     "name": "stdout",
     "output_type": "stream",
     "text": [
      "\u001b[0;36mafl-clang-fast \u001b[1;37m1.96b\u001b[0m by <lszekeres@google.com>\n",
      "\u001b[0;36mafl-llvm-pass \u001b[1;37m1.96b\u001b[0m by <lszekeres@google.com>\n",
      "\u001b[1;32m[+] \u001b[0mInstrumented 6 locations (non-hardened mode, ratio 100%).\u001b[0m\n",
      "\u001b[0;36mafl-showmap \u001b[1;97m2.51b\u001b[0m by <lcamtuf@google.com>\n",
      "\u001b[1;94m[*] \u001b[0mExecuting './a.out'...\n",
      "\u001b[0m\n",
      "-- Program output begins --\n",
      "\u001b[0m\u001b[0m-- Program output ends --\n",
      "\u001b[1;91m\n",
      "+++ Program killed by signal 11 +++\n",
      "\u001b[0m\u001b[1;92m[+] \u001b[0mCaptured 2 tuples in './pr11.txt'.\u001b[0m\u001b[0m\n"
     ]
    }
   ],
   "source": [
    "!afl-clang-fast pr11.c -o ./a.out\n",
    "!afl-showmap -o ./pr11.txt -- ./a.out"
   ]
  },
  {
   "cell_type": "code",
   "execution_count": 5,
   "metadata": {},
   "outputs": [
    {
     "name": "stdout",
     "output_type": "stream",
     "text": [
      "000000:1\r\n",
      "041369:1\r\n"
     ]
    }
   ],
   "source": [
    "!cat pr11.txt"
   ]
  },
  {
   "cell_type": "code",
   "execution_count": 6,
   "metadata": {},
   "outputs": [
    {
     "name": "stdout",
     "output_type": "stream",
     "text": [
      "\u001b[0;36mafl-showmap \u001b[1;97m2.51b\u001b[0m by <lcamtuf@google.com>\r\n",
      "\u001b[1;94m[*] \u001b[0mExecuting './a.out'...\r\n",
      "\u001b[0m\r\n",
      "-- Program output begins --\r\n",
      "\u001b[0mHello from Tabriz!\r\n",
      "Hello from Tehran!\r\n",
      "\u001b[0m-- Program output ends --\r\n",
      "\u001b[1;92m[+] \u001b[0mCaptured 4 tuples in './pr11.txt'.\u001b[0m\u001b[0m\r\n"
     ]
    }
   ],
   "source": [
    "!afl-showmap -o ./pr11.txt -- ./a.out 1"
   ]
  },
  {
   "cell_type": "code",
   "execution_count": 7,
   "metadata": {},
   "outputs": [
    {
     "name": "stdout",
     "output_type": "stream",
     "text": [
      "000000:1\r\n",
      "041369:1\r\n",
      "045523:1\r\n",
      "045997:1\r\n"
     ]
    }
   ],
   "source": [
    "!cat pr11.txt"
   ]
  },
  {
   "cell_type": "code",
   "execution_count": 8,
   "metadata": {},
   "outputs": [
    {
     "name": "stdout",
     "output_type": "stream",
     "text": [
      "\u001b[0;36mafl-showmap \u001b[1;97m2.51b\u001b[0m by <lcamtuf@google.com>\r\n",
      "\u001b[1;94m[*] \u001b[0mExecuting './a.out'...\r\n",
      "\u001b[0m\r\n",
      "-- Program output begins --\r\n",
      "\u001b[0mHello from Tehran!\r\n",
      "Hello from Tabriz!\r\n",
      "\u001b[0m-- Program output ends --\r\n",
      "\u001b[1;92m[+] \u001b[0mCaptured 4 tuples in './pr11.txt'.\u001b[0m\u001b[0m\r\n"
     ]
    }
   ],
   "source": [
    "!afl-showmap -o ./pr11.txt -- ./a.out 2"
   ]
  },
  {
   "cell_type": "code",
   "execution_count": 9,
   "metadata": {},
   "outputs": [
    {
     "name": "stdout",
     "output_type": "stream",
     "text": [
      "000000:1\r\n",
      "003730:1\r\n",
      "041369:1\r\n",
      "060429:1\r\n"
     ]
    }
   ],
   "source": [
    "!cat pr11.txt"
   ]
  },
  {
   "cell_type": "code",
   "execution_count": 10,
   "metadata": {},
   "outputs": [
    {
     "name": "stdout",
     "output_type": "stream",
     "text": [
      "\u001b[0;36mafl-showmap \u001b[1;97m2.51b\u001b[0m by <lcamtuf@google.com>\r\n",
      "\u001b[1;94m[*] \u001b[0mExecuting './a.out'...\r\n",
      "\u001b[0m\r\n",
      "-- Program output begins --\r\n",
      "\u001b[0m\u001b[0m-- Program output ends --\r\n",
      "\u001b[1;92m[+] \u001b[0mCaptured 3 tuples in './pr11.txt'.\u001b[0m\u001b[0m\r\n"
     ]
    }
   ],
   "source": [
    "!afl-showmap -o ./pr11.txt -- ./a.out 3"
   ]
  },
  {
   "cell_type": "code",
   "execution_count": 11,
   "metadata": {},
   "outputs": [
    {
     "name": "stdout",
     "output_type": "stream",
     "text": [
      "000000:1\r\n",
      "037870:1\r\n",
      "041369:1\r\n"
     ]
    }
   ],
   "source": [
    "!cat pr11.txt"
   ]
  },
  {
   "cell_type": "code",
   "execution_count": 12,
   "metadata": {},
   "outputs": [
    {
     "name": "stdout",
     "output_type": "stream",
     "text": [
      "\u001b[0;36mafl-showmap \u001b[1;97m2.51b\u001b[0m by <lcamtuf@google.com>\r\n",
      "\u001b[1;94m[*] \u001b[0mExecuting './a.out'...\r\n",
      "\u001b[0m\r\n",
      "-- Program output begins --\r\n",
      "\u001b[0m\u001b[0m-- Program output ends --\r\n",
      "\u001b[1;92m[+] \u001b[0mCaptured 3 tuples in './pr11.txt'.\u001b[0m\u001b[0m\r\n"
     ]
    }
   ],
   "source": [
    "!afl-showmap -o ./pr11.txt -- ./a.out 1111"
   ]
  },
  {
   "cell_type": "code",
   "execution_count": 13,
   "metadata": {},
   "outputs": [
    {
     "name": "stdout",
     "output_type": "stream",
     "text": [
      "000000:1\r\n",
      "037870:1\r\n",
      "041369:1\r\n"
     ]
    }
   ],
   "source": [
    "!cat pr11.txt"
   ]
  },
  {
   "cell_type": "markdown",
   "metadata": {},
   "source": [
    "the results are not understandable for now, continueing with experiment3"
   ]
  }
 ],
 "metadata": {
  "kernelspec": {
   "display_name": "Python 3",
   "language": "python",
   "name": "python3"
  },
  "language_info": {
   "codemirror_mode": {
    "name": "ipython",
    "version": 3
   },
   "file_extension": ".py",
   "mimetype": "text/x-python",
   "name": "python",
   "nbconvert_exporter": "python",
   "pygments_lexer": "ipython3",
   "version": "3.5.2"
  }
 },
 "nbformat": 4,
 "nbformat_minor": 2
}
