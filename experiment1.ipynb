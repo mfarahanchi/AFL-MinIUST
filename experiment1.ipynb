{
 "cells": [
  {
   "cell_type": "code",
   "execution_count": 1,
   "metadata": {},
   "outputs": [
    {
     "name": "stdout",
     "output_type": "stream",
     "text": [
      "/media/sf_linuxvm/beta\r\n"
     ]
    }
   ],
   "source": [
    "!pwd"
   ]
  },
  {
   "cell_type": "code",
   "execution_count": 2,
   "metadata": {},
   "outputs": [
    {
     "name": "stdout",
     "output_type": "stream",
     "text": [
      "a.out  printer01.c  printer01.txt  printer02.c\tUntitled.ipynb\r\n"
     ]
    }
   ],
   "source": [
    "!ls"
   ]
  },
  {
   "cell_type": "code",
   "execution_count": null,
   "metadata": {},
   "outputs": [],
   "source": [
    "!afl-clang-fast pr.c -o ./a.out\n",
    "!afl-showmap -o ./pr6.txt -- ./a.out 5 10"
   ]
  },
  {
   "cell_type": "code",
   "execution_count": 9,
   "metadata": {},
   "outputs": [
    {
     "name": "stdout",
     "output_type": "stream",
     "text": [
      "#include <stdio.h>\r\n",
      " \r\n",
      "int main()\r\n",
      "{\r\n",
      "  printf(\"Hello world\\n\");\r\n",
      "  return 0;\r\n",
      "}"
     ]
    }
   ],
   "source": [
    "!cat printer01.c"
   ]
  },
  {
   "cell_type": "code",
   "execution_count": 4,
   "metadata": {},
   "outputs": [
    {
     "name": "stdout",
     "output_type": "stream",
     "text": [
      "000000:1\r\n",
      "027203:1\r\n"
     ]
    }
   ],
   "source": [
    "!cat printer01.txt"
   ]
  },
  {
   "cell_type": "code",
   "execution_count": 6,
   "metadata": {},
   "outputs": [
    {
     "name": "stdout",
     "output_type": "stream",
     "text": [
      "#include <stdio.h>\r\n",
      " \r\n",
      "int main()\r\n",
      "{\r\n",
      "  char a = 'H', b = 'e', c = 'l', d = 'o';\r\n",
      "  char e = 'w', f = 'r', g = 'd';\r\n",
      " \r\n",
      "  printf(\"%c%c%c%c%c %c%c%c%c%c\", a, b, c, c, d, e, d, f, c, g);\r\n",
      " \r\n",
      "  return 0;\r\n",
      "}"
     ]
    }
   ],
   "source": [
    "!cat printer02.c"
   ]
  },
  {
   "cell_type": "code",
   "execution_count": 7,
   "metadata": {},
   "outputs": [
    {
     "name": "stdout",
     "output_type": "stream",
     "text": [
      "000000:1\r\n",
      "031204:1\r\n"
     ]
    }
   ],
   "source": [
    "!cat pr02.txt"
   ]
  },
  {
   "cell_type": "code",
   "execution_count": 11,
   "metadata": {},
   "outputs": [
    {
     "name": "stdout",
     "output_type": "stream",
     "text": [
      "#include <stdio.h>\r\n",
      " \r\n",
      "int main()\r\n",
      "{\r\n",
      "  int c,n=5;\r\n",
      " \r\n",
      "  printf(\"How many times you want to display it?\\n\");\r\n",
      "//   scanf(\"%d\", &n);\r\n",
      " \r\n",
      "  for (c=1; c<=n; c++)\r\n",
      "     printf(\"Hello world!\\n\");\r\n",
      " \r\n",
      "  return 0;\r\n",
      "}"
     ]
    }
   ],
   "source": [
    "!cat pr3.c"
   ]
  },
  {
   "cell_type": "code",
   "execution_count": 12,
   "metadata": {},
   "outputs": [
    {
     "name": "stdout",
     "output_type": "stream",
     "text": [
      "000000:1\r\n",
      "052097:1\r\n"
     ]
    }
   ],
   "source": [
    "!cat pr3.txt"
   ]
  },
  {
   "cell_type": "code",
   "execution_count": 17,
   "metadata": {},
   "outputs": [
    {
     "name": "stdout",
     "output_type": "stream",
     "text": [
      "#include <stdio.h>\r\n",
      "#include <stdlib.h>\r\n",
      " \r\n",
      "int main(int argc, char** argv)\r\n",
      "{\r\n",
      "  int c;\r\n",
      "  char *nc=argv[0];\r\n",
      "  int n = atoi(nc);\r\n",
      " \r\n",
      "  printf(\"How many times you want to display it?\\n\");\r\n",
      "//   scanf(\"%d\", &n);\r\n",
      " \r\n",
      "  for (c=1; c<=n; c++)\r\n",
      "     printf(\"Hello world!\\n\");\r\n",
      " \r\n",
      "  return 0;\r\n",
      "}"
     ]
    }
   ],
   "source": [
    "!cat pr4.c"
   ]
  },
  {
   "cell_type": "code",
   "execution_count": 18,
   "metadata": {},
   "outputs": [
    {
     "name": "stdout",
     "output_type": "stream",
     "text": [
      "000000:1\r\n",
      "015269:1\r\n",
      "023731:1\r\n"
     ]
    }
   ],
   "source": [
    "!cat pr4.txt"
   ]
  },
  {
   "cell_type": "code",
   "execution_count": 20,
   "metadata": {},
   "outputs": [
    {
     "name": "stdout",
     "output_type": "stream",
     "text": [
      "000000:1\r\n",
      "017590:1\r\n",
      "062182:1\r\n"
     ]
    }
   ],
   "source": [
    "!cat pr5.txt"
   ]
  },
  {
   "cell_type": "code",
   "execution_count": 22,
   "metadata": {},
   "outputs": [
    {
     "name": "stdout",
     "output_type": "stream",
     "text": [
      "000000:1\r\n",
      "029371:1\r\n",
      "037741:1\r\n"
     ]
    }
   ],
   "source": [
    "!cat pr5.txt"
   ]
  },
  {
   "cell_type": "code",
   "execution_count": 23,
   "metadata": {},
   "outputs": [
    {
     "name": "stdout",
     "output_type": "stream",
     "text": [
      "\u001b[0;36mafl-showmap \u001b[1;97m2.51b\u001b[0m by <lcamtuf@google.com>\r\n",
      "\u001b[1;94m[*] \u001b[0mExecuting './a.out'...\r\n",
      "\u001b[0m\r\n",
      "-- Program output begins --\r\n",
      "\u001b[0mHow many times you want to display it?\r\n",
      "\u001b[0m-- Program output ends --\r\n",
      "\u001b[1;92m[+] \u001b[0mCaptured 3 tuples in './pr5.txt'.\u001b[0m\u001b[0m\r\n"
     ]
    }
   ],
   "source": [
    "!afl-showmap -o ./pr5.txt -- ./a.out 5 11"
   ]
  },
  {
   "cell_type": "code",
   "execution_count": 24,
   "metadata": {},
   "outputs": [
    {
     "name": "stdout",
     "output_type": "stream",
     "text": [
      "000000:1\r\n",
      "029371:1\r\n",
      "037741:1\r\n"
     ]
    }
   ],
   "source": [
    "!cat pr5.txt"
   ]
  },
  {
   "cell_type": "code",
   "execution_count": 30,
   "metadata": {},
   "outputs": [
    {
     "name": "stdout",
     "output_type": "stream",
     "text": [
      "\u001b[0;36mafl-showmap \u001b[1;97m2.51b\u001b[0m by <lcamtuf@google.com>\r\n",
      "\u001b[1;94m[*] \u001b[0mExecuting './a.out'...\r\n",
      "\u001b[0m\r\n",
      "-- Program output begins --\r\n",
      "\u001b[0m\r\n",
      " n:0\u001b[0m-- Program output ends --\r\n",
      "\u001b[1;92m[+] \u001b[0mCaptured 3 tuples in './pr5.txt'.\u001b[0m\u001b[0m\r\n"
     ]
    }
   ],
   "source": [
    "!afl-showmap -o ./pr5.txt -- ./a.out 8 11"
   ]
  },
  {
   "cell_type": "code",
   "execution_count": 32,
   "metadata": {},
   "outputs": [
    {
     "name": "stdout",
     "output_type": "stream",
     "text": [
      "000000:1\r\n",
      "014138:1\r\n",
      "034465:4\r\n",
      "043591:1\r\n",
      "051642:1\r\n",
      "055636:1\r\n",
      "059356:1\r\n"
     ]
    }
   ],
   "source": [
    "!cat pr5.txt"
   ]
  },
  {
   "cell_type": "code",
   "execution_count": 33,
   "metadata": {},
   "outputs": [
    {
     "name": "stdout",
     "output_type": "stream",
     "text": [
      "\u001b[0;36mafl-showmap \u001b[1;97m2.51b\u001b[0m by <lcamtuf@google.com>\r\n",
      "\u001b[1;94m[*] \u001b[0mExecuting './a.out'...\r\n",
      "\u001b[0m\r\n",
      "-- Program output begins --\r\n",
      "\u001b[0m\r\n",
      " n:3Hello world!\r\n",
      "Hello world!\r\n",
      "Hello world!\r\n",
      "\u001b[0m-- Program output ends --\r\n",
      "\u001b[1;92m[+] \u001b[0mCaptured 7 tuples in './pr5.txt'.\u001b[0m\u001b[0m\r\n"
     ]
    }
   ],
   "source": [
    "!afl-showmap -o ./pr5.txt -- ./a.out 3 31"
   ]
  },
  {
   "cell_type": "code",
   "execution_count": 34,
   "metadata": {},
   "outputs": [
    {
     "name": "stdout",
     "output_type": "stream",
     "text": [
      "000000:1\r\n",
      "014138:1\r\n",
      "034465:2\r\n",
      "043591:1\r\n",
      "051642:1\r\n",
      "055636:1\r\n",
      "059356:1\r\n"
     ]
    }
   ],
   "source": [
    "!cat pr5.txt"
   ]
  },
  {
   "cell_type": "code",
   "execution_count": 37,
   "metadata": {},
   "outputs": [
    {
     "name": "stdout",
     "output_type": "stream",
     "text": [
      "\u001b[0;36mafl-showmap \u001b[1;97m2.51b\u001b[0m by <lcamtuf@google.com>\r\n",
      "\u001b[1;94m[*] \u001b[0mExecuting './a.out'...\r\n",
      "\u001b[0m\r\n",
      "-- Program output begins --\r\n",
      "\u001b[0mHello world!\r\n",
      "Hello world!\r\n",
      "Hello world!\r\n",
      "\u001b[0m-- Program output ends --\r\n",
      "\u001b[1;92m[+] \u001b[0mCaptured 7 tuples in './pr6.txt'.\u001b[0m\u001b[0m\r\n"
     ]
    }
   ],
   "source": [
    "!afl-showmap -o ./pr6.txt -- ./a.out 3 31"
   ]
  },
  {
   "cell_type": "code",
   "execution_count": 38,
   "metadata": {},
   "outputs": [
    {
     "name": "stdout",
     "output_type": "stream",
     "text": [
      "000000:1\r\n",
      "000621:1\r\n",
      "037762:1\r\n",
      "038958:2\r\n",
      "040419:1\r\n",
      "041377:1\r\n",
      "053365:1\r\n"
     ]
    }
   ],
   "source": [
    "!cat pr6.txt"
   ]
  },
  {
   "cell_type": "code",
   "execution_count": 39,
   "metadata": {},
   "outputs": [
    {
     "name": "stdout",
     "output_type": "stream",
     "text": [
      "\u001b[0;36mafl-showmap \u001b[1;97m2.51b\u001b[0m by <lcamtuf@google.com>\n",
      "\u001b[1;94m[*] \u001b[0mExecuting './a.out'...\n",
      "\u001b[0m\n",
      "-- Program output begins --\n",
      "\u001b[0m\u001b[0m-- Program output ends --\n",
      "\u001b[1;92m[+] \u001b[0mCaptured 3 tuples in './pr6.txt'.\u001b[0m\u001b[0m\n",
      "000000:1\n",
      "000621:1\n",
      "049532:1\n"
     ]
    }
   ],
   "source": [
    "!afl-showmap -o ./pr6.txt -- ./a.out 3 0\n",
    "!cat pr6.txt"
   ]
  },
  {
   "cell_type": "code",
   "execution_count": 40,
   "metadata": {},
   "outputs": [
    {
     "name": "stdout",
     "output_type": "stream",
     "text": [
      "\u001b[0;36mafl-showmap \u001b[1;97m2.51b\u001b[0m by <lcamtuf@google.com>\n",
      "\u001b[1;94m[*] \u001b[0mExecuting './a.out'...\n",
      "\u001b[0m\n",
      "-- Program output begins --\n",
      "\u001b[0m\u001b[0m-- Program output ends --\n",
      "\u001b[1;92m[+] \u001b[0mCaptured 3 tuples in './pr6.txt'.\u001b[0m\u001b[0m\n",
      "000000:1\n",
      "000621:1\n",
      "049532:1\n"
     ]
    }
   ],
   "source": [
    "!afl-showmap -o ./pr6.txt -- ./a.out 300 0\n",
    "!cat pr6.txt"
   ]
  },
  {
   "cell_type": "code",
   "execution_count": 41,
   "metadata": {},
   "outputs": [
    {
     "name": "stdout",
     "output_type": "stream",
     "text": [
      "\u001b[0;36mafl-showmap \u001b[1;97m2.51b\u001b[0m by <lcamtuf@google.com>\n",
      "\u001b[1;94m[*] \u001b[0mExecuting './a.out'...\n",
      "\u001b[0m\n",
      "-- Program output begins --\n",
      "\u001b[0m\u001b[0m-- Program output ends --\n",
      "\u001b[1;91m\n",
      "+++ Program killed by signal 11 +++\n",
      "\u001b[0m\u001b[1;92m[+] \u001b[0mCaptured 2 tuples in './pr6.txt'.\u001b[0m\u001b[0m\n",
      "000000:1\n",
      "000621:1\n"
     ]
    }
   ],
   "source": [
    "!afl-showmap -o ./pr6.txt -- ./a.out 0\n",
    "!cat pr6.txt"
   ]
  },
  {
   "cell_type": "code",
   "execution_count": 42,
   "metadata": {},
   "outputs": [
    {
     "name": "stdout",
     "output_type": "stream",
     "text": [
      "\u001b[0;36mafl-showmap \u001b[1;97m2.51b\u001b[0m by <lcamtuf@google.com>\n",
      "\u001b[1;94m[*] \u001b[0mExecuting './a.out'...\n",
      "\u001b[0m\n",
      "-- Program output begins --\n",
      "\u001b[0m\u001b[0m-- Program output ends --\n",
      "\u001b[1;91m\n",
      "+++ Program killed by signal 11 +++\n",
      "\u001b[0m\u001b[1;92m[+] \u001b[0mCaptured 2 tuples in './pr6.txt'.\u001b[0m\u001b[0m\n",
      "000000:1\n",
      "000621:1\n"
     ]
    }
   ],
   "source": [
    "!afl-showmap -o ./pr6.txt -- ./a.out 100\n",
    "!cat pr6.txt"
   ]
  },
  {
   "cell_type": "code",
   "execution_count": 43,
   "metadata": {},
   "outputs": [
    {
     "name": "stdout",
     "output_type": "stream",
     "text": [
      "\u001b[0;36mafl-showmap \u001b[1;97m2.51b\u001b[0m by <lcamtuf@google.com>\n",
      "\u001b[1;94m[*] \u001b[0mExecuting './a.out'...\n",
      "\u001b[0m\n",
      "-- Program output begins --\n",
      "\u001b[0m\u001b[0m-- Program output ends --\n",
      "\u001b[1;91m\n",
      "+++ Program killed by signal 11 +++\n",
      "\u001b[0m\u001b[1;92m[+] \u001b[0mCaptured 2 tuples in './pr6.txt'.\u001b[0m\u001b[0m\n",
      "000000:1\n",
      "000621:1\n"
     ]
    }
   ],
   "source": [
    "!afl-showmap -o ./pr6.txt -- ./a.out aaa\n",
    "!cat pr6.txt"
   ]
  },
  {
   "cell_type": "code",
   "execution_count": null,
   "metadata": {},
   "outputs": [],
   "source": []
  }
 ],
 "metadata": {
  "kernelspec": {
   "display_name": "Python 3",
   "language": "python",
   "name": "python3"
  },
  "language_info": {
   "codemirror_mode": {
    "name": "ipython",
    "version": 3
   },
   "file_extension": ".py",
   "mimetype": "text/x-python",
   "name": "python",
   "nbconvert_exporter": "python",
   "pygments_lexer": "ipython3",
   "version": "3.5.2"
  }
 },
 "nbformat": 4,
 "nbformat_minor": 2
}
